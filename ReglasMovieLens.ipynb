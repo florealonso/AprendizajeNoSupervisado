{
 "cells": [
  {
   "cell_type": "markdown",
   "metadata": {},
   "source": [
    "# Reglas de asociación con el dataset MovieLens\n",
    "\n",
    "\n",
    "### Consigna:\n",
    "\n",
    "* Obtener reglas de asociación entre películas en el dataset movielens (como si fuera recomendación!) \n",
    "* Aplicar diferentes métricas de ordenamiento\n",
    "* Hacer un pequeño informe "
   ]
  },
  {
   "cell_type": "markdown",
   "metadata": {},
   "source": [
    "\n",
    "\n",
    "__Primero vemos como está formado el dataset:__\n",
    "\n",
    "It contains 20000263 ratings and 465564 tag applications across 27278 movies. These data were created by 138493 users between January 09, 1995 and March 31, 2015. This dataset was generated on March 31, 2015, and updated on October 17, 2016 to update links.csv and add genome-* files.\n",
    "\n",
    "The data are contained in __six files__, 'genome-scores.csv', 'genome-tags.csv', 'links.csv', 'movies.csv', 'ratings.csv' and 'tags.csv'.\n",
    "\n",
    "__User ids__ are consistent between 'ratings.csv' and 'tags.csv' (i.e., the same id refers to the same user across the two files).\n",
    "\n",
    "These __movie ids__ are consistent with those used on the MovieLens web site (e.g., id `1` corresponds to the URL <https://movielens.org/movies/1>). Movie ids are consistent between 'ratings.csv', 'tags.csv', 'movies.csv', and 'links.csv' \n",
    "\n",
    "\n",
    "### ratings.csv\n",
    "\n",
    "All __ratings__ are contained in the file 'ratings.csv'. Each line of this file after the header row represents one rating of one movie by one user, and has the following format: userId,movieId,rating,timestamp.\n",
    "\n",
    "The lines within this file are ordered first by userId, then, within user, by movieId.\n",
    "\n",
    "Ratings are made on a 5-star scale, with half-star increments (0.5 stars - 5.0 stars).\n",
    "\n",
    "### tags.csv\n",
    "\n",
    "All __tags__ are contained in the file 'tags.csv'. Each line of this file after the header row represents one tag applied to one movie by one user, and has the following format: userId,movieId,tag,timestamp\n",
    "\n",
    "The lines within this file are ordered first by userId, then, within user, by movieId.\n",
    "\n",
    "Tags are user-generated metadata about movies. Each tag is typically a single word or short phrase. The meaning, value, and purpose of a particular tag is determined by each user.\n",
    "\n",
    "### movies.csv\n",
    "\n",
    "Each line of this file after the header row represents one movie, and has the following format: movieId,title,genres\n",
    "\n",
    "Movie titles are entered manually or imported from <https://www.themoviedb.org/>, and include the year of release in parentheses. Errors and inconsistencies may exist in these titles.\n",
    "\n",
    "Genres: \n",
    "* Action\n",
    "* Adventure\n",
    "* Animation\n",
    "* Children's\n",
    "* Comedy\n",
    "* Crime\n",
    "* Documentary\n",
    "* Drama\n",
    "* Fantasy\n",
    "* Film-Noir\n",
    "* Horror\n",
    "* Musical\n",
    "* Mystery\n",
    "* Romance\n",
    "* Sci-Fi\n",
    "* Thriller\n",
    "* War\n",
    "* Western\n",
    "* (no genres listed)\n",
    "\n",
    "### links.csv\n",
    "\n",
    "Identifiers that can be used to link to other sources of movie data are contained in the file `links.csv`. Each line of this file after the header row represents one movie, and has the following format: movieId,imdbId,tmdbId"
   ]
  },
  {
   "cell_type": "code",
   "execution_count": 1,
   "metadata": {},
   "outputs": [],
   "source": [
    "import pandas as pd\n",
    "import numpy as np\n",
    "import sys\n",
    "from itertools import combinations, groupby\n",
    "from apyori import apriori"
   ]
  },
  {
   "cell_type": "markdown",
   "metadata": {},
   "source": [
    "### Carga y una primera mirada a los datos:"
   ]
  },
  {
   "cell_type": "code",
   "execution_count": 102,
   "metadata": {},
   "outputs": [],
   "source": [
    "ratings = pd.read_csv('./ml-20m/ratings.csv')"
   ]
  },
  {
   "cell_type": "code",
   "execution_count": 103,
   "metadata": {},
   "outputs": [
    {
     "data": {
      "text/html": [
       "<div>\n",
       "<style scoped>\n",
       "    .dataframe tbody tr th:only-of-type {\n",
       "        vertical-align: middle;\n",
       "    }\n",
       "\n",
       "    .dataframe tbody tr th {\n",
       "        vertical-align: top;\n",
       "    }\n",
       "\n",
       "    .dataframe thead th {\n",
       "        text-align: right;\n",
       "    }\n",
       "</style>\n",
       "<table border=\"1\" class=\"dataframe\">\n",
       "  <thead>\n",
       "    <tr style=\"text-align: right;\">\n",
       "      <th></th>\n",
       "      <th>userId</th>\n",
       "      <th>movieId</th>\n",
       "      <th>rating</th>\n",
       "      <th>timestamp</th>\n",
       "    </tr>\n",
       "  </thead>\n",
       "  <tbody>\n",
       "    <tr>\n",
       "      <th>0</th>\n",
       "      <td>1</td>\n",
       "      <td>2</td>\n",
       "      <td>3.5</td>\n",
       "      <td>1112486027</td>\n",
       "    </tr>\n",
       "    <tr>\n",
       "      <th>1</th>\n",
       "      <td>1</td>\n",
       "      <td>29</td>\n",
       "      <td>3.5</td>\n",
       "      <td>1112484676</td>\n",
       "    </tr>\n",
       "    <tr>\n",
       "      <th>2</th>\n",
       "      <td>1</td>\n",
       "      <td>32</td>\n",
       "      <td>3.5</td>\n",
       "      <td>1112484819</td>\n",
       "    </tr>\n",
       "    <tr>\n",
       "      <th>3</th>\n",
       "      <td>1</td>\n",
       "      <td>47</td>\n",
       "      <td>3.5</td>\n",
       "      <td>1112484727</td>\n",
       "    </tr>\n",
       "    <tr>\n",
       "      <th>4</th>\n",
       "      <td>1</td>\n",
       "      <td>50</td>\n",
       "      <td>3.5</td>\n",
       "      <td>1112484580</td>\n",
       "    </tr>\n",
       "  </tbody>\n",
       "</table>\n",
       "</div>"
      ],
      "text/plain": [
       "   userId  movieId  rating   timestamp\n",
       "0       1        2     3.5  1112486027\n",
       "1       1       29     3.5  1112484676\n",
       "2       1       32     3.5  1112484819\n",
       "3       1       47     3.5  1112484727\n",
       "4       1       50     3.5  1112484580"
      ]
     },
     "execution_count": 103,
     "metadata": {},
     "output_type": "execute_result"
    }
   ],
   "source": [
    "ratings.head()"
   ]
  },
  {
   "cell_type": "code",
   "execution_count": 104,
   "metadata": {},
   "outputs": [
    {
     "data": {
      "text/plain": [
       "(20000263, 4)"
      ]
     },
     "execution_count": 104,
     "metadata": {},
     "output_type": "execute_result"
    }
   ],
   "source": [
    "ratings.shape"
   ]
  },
  {
   "cell_type": "code",
   "execution_count": 105,
   "metadata": {},
   "outputs": [
    {
     "name": "stdout",
     "output_type": "stream",
     "text": [
      "<class 'pandas.core.frame.DataFrame'>\n",
      "RangeIndex: 20000263 entries, 0 to 20000262\n",
      "Data columns (total 4 columns):\n",
      "userId       int64\n",
      "movieId      int64\n",
      "rating       float64\n",
      "timestamp    int64\n",
      "dtypes: float64(1), int64(3)\n",
      "memory usage: 610.4 MB\n"
     ]
    }
   ],
   "source": [
    "ratings.info()"
   ]
  },
  {
   "cell_type": "markdown",
   "metadata": {},
   "source": [
    "Se observa que no hay valores nulos y los tipos de datos son los correctos."
   ]
  },
  {
   "cell_type": "code",
   "execution_count": 106,
   "metadata": {},
   "outputs": [],
   "source": [
    "tags = pd.read_csv('./ml-20m/tags.csv')"
   ]
  },
  {
   "cell_type": "code",
   "execution_count": 107,
   "metadata": {},
   "outputs": [
    {
     "data": {
      "text/html": [
       "<div>\n",
       "<style scoped>\n",
       "    .dataframe tbody tr th:only-of-type {\n",
       "        vertical-align: middle;\n",
       "    }\n",
       "\n",
       "    .dataframe tbody tr th {\n",
       "        vertical-align: top;\n",
       "    }\n",
       "\n",
       "    .dataframe thead th {\n",
       "        text-align: right;\n",
       "    }\n",
       "</style>\n",
       "<table border=\"1\" class=\"dataframe\">\n",
       "  <thead>\n",
       "    <tr style=\"text-align: right;\">\n",
       "      <th></th>\n",
       "      <th>userId</th>\n",
       "      <th>movieId</th>\n",
       "      <th>tag</th>\n",
       "      <th>timestamp</th>\n",
       "    </tr>\n",
       "  </thead>\n",
       "  <tbody>\n",
       "    <tr>\n",
       "      <th>0</th>\n",
       "      <td>18</td>\n",
       "      <td>4141</td>\n",
       "      <td>Mark Waters</td>\n",
       "      <td>1240597180</td>\n",
       "    </tr>\n",
       "    <tr>\n",
       "      <th>1</th>\n",
       "      <td>65</td>\n",
       "      <td>208</td>\n",
       "      <td>dark hero</td>\n",
       "      <td>1368150078</td>\n",
       "    </tr>\n",
       "    <tr>\n",
       "      <th>2</th>\n",
       "      <td>65</td>\n",
       "      <td>353</td>\n",
       "      <td>dark hero</td>\n",
       "      <td>1368150079</td>\n",
       "    </tr>\n",
       "    <tr>\n",
       "      <th>3</th>\n",
       "      <td>65</td>\n",
       "      <td>521</td>\n",
       "      <td>noir thriller</td>\n",
       "      <td>1368149983</td>\n",
       "    </tr>\n",
       "    <tr>\n",
       "      <th>4</th>\n",
       "      <td>65</td>\n",
       "      <td>592</td>\n",
       "      <td>dark hero</td>\n",
       "      <td>1368150078</td>\n",
       "    </tr>\n",
       "  </tbody>\n",
       "</table>\n",
       "</div>"
      ],
      "text/plain": [
       "   userId  movieId            tag   timestamp\n",
       "0      18     4141    Mark Waters  1240597180\n",
       "1      65      208      dark hero  1368150078\n",
       "2      65      353      dark hero  1368150079\n",
       "3      65      521  noir thriller  1368149983\n",
       "4      65      592      dark hero  1368150078"
      ]
     },
     "execution_count": 107,
     "metadata": {},
     "output_type": "execute_result"
    }
   ],
   "source": [
    "tags.head()"
   ]
  },
  {
   "cell_type": "code",
   "execution_count": 108,
   "metadata": {},
   "outputs": [
    {
     "name": "stdout",
     "output_type": "stream",
     "text": [
      "<class 'pandas.core.frame.DataFrame'>\n",
      "RangeIndex: 465564 entries, 0 to 465563\n",
      "Data columns (total 4 columns):\n",
      "userId       465564 non-null int64\n",
      "movieId      465564 non-null int64\n",
      "tag          465548 non-null object\n",
      "timestamp    465564 non-null int64\n",
      "dtypes: int64(3), object(1)\n",
      "memory usage: 14.2+ MB\n"
     ]
    }
   ],
   "source": [
    "tags.info()"
   ]
  },
  {
   "cell_type": "markdown",
   "metadata": {},
   "source": [
    "Se observa que no todas las puntuaciones hechas por usuarios fueron acompañadas por una etiqueta. De todas formas no se va a usar éste archivo para el práctico."
   ]
  },
  {
   "cell_type": "code",
   "execution_count": 22,
   "metadata": {},
   "outputs": [],
   "source": [
    "movies = pd.read_csv('./ml-20m/movies.csv')"
   ]
  },
  {
   "cell_type": "code",
   "execution_count": 23,
   "metadata": {},
   "outputs": [
    {
     "data": {
      "text/html": [
       "<div>\n",
       "<style scoped>\n",
       "    .dataframe tbody tr th:only-of-type {\n",
       "        vertical-align: middle;\n",
       "    }\n",
       "\n",
       "    .dataframe tbody tr th {\n",
       "        vertical-align: top;\n",
       "    }\n",
       "\n",
       "    .dataframe thead th {\n",
       "        text-align: right;\n",
       "    }\n",
       "</style>\n",
       "<table border=\"1\" class=\"dataframe\">\n",
       "  <thead>\n",
       "    <tr style=\"text-align: right;\">\n",
       "      <th></th>\n",
       "      <th>movieId</th>\n",
       "      <th>title</th>\n",
       "      <th>genres</th>\n",
       "    </tr>\n",
       "  </thead>\n",
       "  <tbody>\n",
       "    <tr>\n",
       "      <th>0</th>\n",
       "      <td>1</td>\n",
       "      <td>Toy Story (1995)</td>\n",
       "      <td>Adventure|Animation|Children|Comedy|Fantasy</td>\n",
       "    </tr>\n",
       "    <tr>\n",
       "      <th>1</th>\n",
       "      <td>2</td>\n",
       "      <td>Jumanji (1995)</td>\n",
       "      <td>Adventure|Children|Fantasy</td>\n",
       "    </tr>\n",
       "    <tr>\n",
       "      <th>2</th>\n",
       "      <td>3</td>\n",
       "      <td>Grumpier Old Men (1995)</td>\n",
       "      <td>Comedy|Romance</td>\n",
       "    </tr>\n",
       "    <tr>\n",
       "      <th>3</th>\n",
       "      <td>4</td>\n",
       "      <td>Waiting to Exhale (1995)</td>\n",
       "      <td>Comedy|Drama|Romance</td>\n",
       "    </tr>\n",
       "    <tr>\n",
       "      <th>4</th>\n",
       "      <td>5</td>\n",
       "      <td>Father of the Bride Part II (1995)</td>\n",
       "      <td>Comedy</td>\n",
       "    </tr>\n",
       "  </tbody>\n",
       "</table>\n",
       "</div>"
      ],
      "text/plain": [
       "   movieId                               title  \\\n",
       "0        1                    Toy Story (1995)   \n",
       "1        2                      Jumanji (1995)   \n",
       "2        3             Grumpier Old Men (1995)   \n",
       "3        4            Waiting to Exhale (1995)   \n",
       "4        5  Father of the Bride Part II (1995)   \n",
       "\n",
       "                                        genres  \n",
       "0  Adventure|Animation|Children|Comedy|Fantasy  \n",
       "1                   Adventure|Children|Fantasy  \n",
       "2                               Comedy|Romance  \n",
       "3                         Comedy|Drama|Romance  \n",
       "4                                       Comedy  "
      ]
     },
     "execution_count": 23,
     "metadata": {},
     "output_type": "execute_result"
    }
   ],
   "source": [
    "movies.head()"
   ]
  },
  {
   "cell_type": "code",
   "execution_count": 111,
   "metadata": {},
   "outputs": [
    {
     "name": "stdout",
     "output_type": "stream",
     "text": [
      "<class 'pandas.core.frame.DataFrame'>\n",
      "RangeIndex: 27278 entries, 0 to 27277\n",
      "Data columns (total 3 columns):\n",
      "movieId    27278 non-null int64\n",
      "title      27278 non-null object\n",
      "genres     27278 non-null object\n",
      "dtypes: int64(1), object(2)\n",
      "memory usage: 639.4+ KB\n"
     ]
    }
   ],
   "source": [
    "movies.info()"
   ]
  },
  {
   "cell_type": "markdown",
   "metadata": {},
   "source": [
    "Se observa si coindice la cantidad de películas puntuadas en ratings con las del dataset movies"
   ]
  },
  {
   "cell_type": "code",
   "execution_count": 112,
   "metadata": {},
   "outputs": [
    {
     "name": "stdout",
     "output_type": "stream",
     "text": [
      "Hay  26744  películas puntuadas por los usuarios en ratings.\n",
      "Sus movieId van de  1  a  131262\n"
     ]
    }
   ],
   "source": [
    "listmovies = ratings.movieId.unique().tolist()\n",
    "\n",
    "print(\"Hay \", len(listmovies), \" películas puntuadas por los usuarios en ratings.\")\n",
    "print(\"Sus movieId van de \", min(listmovies), \" a \", max(listmovies))"
   ]
  },
  {
   "cell_type": "markdown",
   "metadata": {},
   "source": [
    "En el dataframe movies estan cargadas 27278 películas."
   ]
  },
  {
   "cell_type": "code",
   "execution_count": 113,
   "metadata": {},
   "outputs": [
    {
     "name": "stdout",
     "output_type": "stream",
     "text": [
      "Los MovieIds en movies van de  1  a  131262\n"
     ]
    }
   ],
   "source": [
    "listmovIDs = movies.movieId.unique().tolist()\n",
    "print(\"Los MovieIds en movies van de \", min(listmovIDs), \" a \", max(listmovIDs))"
   ]
  },
  {
   "cell_type": "code",
   "execution_count": 114,
   "metadata": {},
   "outputs": [
    {
     "name": "stdout",
     "output_type": "stream",
     "text": [
      "Todo ok!\n"
     ]
    }
   ],
   "source": [
    "for i in listmovies:\n",
    "    if not(i in listmovIDs):\n",
    "        print(\"Faltan movieIds en el dataset movies.\")\n",
    "        break\n",
    "    elif i == listmovies[-1]:\n",
    "        print(\"Todo ok!\")\n"
   ]
  },
  {
   "cell_type": "markdown",
   "metadata": {},
   "source": [
    "### A los fines de éste práctico nos quedamos con con los dataframes: ratings y movies.\n",
    "\n",
    "### Definimos:\n",
    "* El conjunto de ítems I: son todas las películas del dataset.\n",
    "* Un ítem es: una película vista por un usuario.\n",
    "* Una transacción t es: el conjunto de películas que vió un usuario.\n"
   ]
  },
  {
   "cell_type": "markdown",
   "metadata": {},
   "source": [
    "Para empezar, sólo me interesa recomendar las películas que fueron puntuadas \"positivamente\" por los usuarios que las vieron. Con ésto mejoro mi sistema de recomendación y además se consigue filtrar el dataset para pasar menos transacciones al algoritmo apriori cuando buscamos las reglas de asociación."
   ]
  },
  {
   "cell_type": "code",
   "execution_count": 115,
   "metadata": {},
   "outputs": [
    {
     "data": {
      "text/html": [
       "<div>\n",
       "<style scoped>\n",
       "    .dataframe tbody tr th:only-of-type {\n",
       "        vertical-align: middle;\n",
       "    }\n",
       "\n",
       "    .dataframe tbody tr th {\n",
       "        vertical-align: top;\n",
       "    }\n",
       "\n",
       "    .dataframe thead th {\n",
       "        text-align: right;\n",
       "    }\n",
       "</style>\n",
       "<table border=\"1\" class=\"dataframe\">\n",
       "  <thead>\n",
       "    <tr style=\"text-align: right;\">\n",
       "      <th></th>\n",
       "      <th>userId</th>\n",
       "      <th>movieId</th>\n",
       "      <th>rating</th>\n",
       "    </tr>\n",
       "  </thead>\n",
       "  <tbody>\n",
       "    <tr>\n",
       "      <th>0</th>\n",
       "      <td>1</td>\n",
       "      <td>2</td>\n",
       "      <td>3.5</td>\n",
       "    </tr>\n",
       "    <tr>\n",
       "      <th>1</th>\n",
       "      <td>1</td>\n",
       "      <td>29</td>\n",
       "      <td>3.5</td>\n",
       "    </tr>\n",
       "    <tr>\n",
       "      <th>2</th>\n",
       "      <td>1</td>\n",
       "      <td>32</td>\n",
       "      <td>3.5</td>\n",
       "    </tr>\n",
       "    <tr>\n",
       "      <th>3</th>\n",
       "      <td>1</td>\n",
       "      <td>47</td>\n",
       "      <td>3.5</td>\n",
       "    </tr>\n",
       "    <tr>\n",
       "      <th>4</th>\n",
       "      <td>1</td>\n",
       "      <td>50</td>\n",
       "      <td>3.5</td>\n",
       "    </tr>\n",
       "  </tbody>\n",
       "</table>\n",
       "</div>"
      ],
      "text/plain": [
       "   userId  movieId  rating\n",
       "0       1        2     3.5\n",
       "1       1       29     3.5\n",
       "2       1       32     3.5\n",
       "3       1       47     3.5\n",
       "4       1       50     3.5"
      ]
     },
     "execution_count": 115,
     "metadata": {},
     "output_type": "execute_result"
    }
   ],
   "source": [
    "ratings = ratings[[\"userId\", \"movieId\", \"rating\"]]\n",
    "ratings.head()"
   ]
  },
  {
   "cell_type": "markdown",
   "metadata": {},
   "source": [
    "Primero agrego una nueva columna con los ratings normalizados por usuarios:"
   ]
  },
  {
   "cell_type": "code",
   "execution_count": 118,
   "metadata": {},
   "outputs": [],
   "source": [
    "# calculo un zscore por usuario\n",
    "medias = ratings['rating'].groupby(ratings.userId).mean()\n",
    "desviaciones = ratings['rating'].groupby(ratings.userId).std()   "
   ]
  },
  {
   "cell_type": "code",
   "execution_count": 121,
   "metadata": {},
   "outputs": [],
   "source": [
    "ratings['medias'] = ratings['userId'].apply(lambda userid: medias[userid])"
   ]
  },
  {
   "cell_type": "code",
   "execution_count": 122,
   "metadata": {},
   "outputs": [],
   "source": [
    "ratings['desviaciones'] = ratings['userId'].apply(lambda userid: desviaciones[userid])"
   ]
  },
  {
   "cell_type": "code",
   "execution_count": 123,
   "metadata": {},
   "outputs": [],
   "source": [
    "ratings['ratingNorm'] = (ratings.rating-ratings.medias)/ratings.desviaciones"
   ]
  },
  {
   "cell_type": "code",
   "execution_count": 125,
   "metadata": {},
   "outputs": [
    {
     "data": {
      "text/html": [
       "<div>\n",
       "<style scoped>\n",
       "    .dataframe tbody tr th:only-of-type {\n",
       "        vertical-align: middle;\n",
       "    }\n",
       "\n",
       "    .dataframe tbody tr th {\n",
       "        vertical-align: top;\n",
       "    }\n",
       "\n",
       "    .dataframe thead th {\n",
       "        text-align: right;\n",
       "    }\n",
       "</style>\n",
       "<table border=\"1\" class=\"dataframe\">\n",
       "  <thead>\n",
       "    <tr style=\"text-align: right;\">\n",
       "      <th></th>\n",
       "      <th>userId</th>\n",
       "      <th>movieId</th>\n",
       "      <th>rating</th>\n",
       "      <th>medias</th>\n",
       "      <th>desviaciones</th>\n",
       "      <th>ratingNorm</th>\n",
       "    </tr>\n",
       "  </thead>\n",
       "  <tbody>\n",
       "    <tr>\n",
       "      <th>0</th>\n",
       "      <td>1</td>\n",
       "      <td>2</td>\n",
       "      <td>3.5</td>\n",
       "      <td>3.742857</td>\n",
       "      <td>0.382284</td>\n",
       "      <td>-0.635279</td>\n",
       "    </tr>\n",
       "    <tr>\n",
       "      <th>1</th>\n",
       "      <td>1</td>\n",
       "      <td>29</td>\n",
       "      <td>3.5</td>\n",
       "      <td>3.742857</td>\n",
       "      <td>0.382284</td>\n",
       "      <td>-0.635279</td>\n",
       "    </tr>\n",
       "    <tr>\n",
       "      <th>2</th>\n",
       "      <td>1</td>\n",
       "      <td>32</td>\n",
       "      <td>3.5</td>\n",
       "      <td>3.742857</td>\n",
       "      <td>0.382284</td>\n",
       "      <td>-0.635279</td>\n",
       "    </tr>\n",
       "    <tr>\n",
       "      <th>3</th>\n",
       "      <td>1</td>\n",
       "      <td>47</td>\n",
       "      <td>3.5</td>\n",
       "      <td>3.742857</td>\n",
       "      <td>0.382284</td>\n",
       "      <td>-0.635279</td>\n",
       "    </tr>\n",
       "    <tr>\n",
       "      <th>4</th>\n",
       "      <td>1</td>\n",
       "      <td>50</td>\n",
       "      <td>3.5</td>\n",
       "      <td>3.742857</td>\n",
       "      <td>0.382284</td>\n",
       "      <td>-0.635279</td>\n",
       "    </tr>\n",
       "  </tbody>\n",
       "</table>\n",
       "</div>"
      ],
      "text/plain": [
       "   userId  movieId  rating    medias  desviaciones  ratingNorm\n",
       "0       1        2     3.5  3.742857      0.382284   -0.635279\n",
       "1       1       29     3.5  3.742857      0.382284   -0.635279\n",
       "2       1       32     3.5  3.742857      0.382284   -0.635279\n",
       "3       1       47     3.5  3.742857      0.382284   -0.635279\n",
       "4       1       50     3.5  3.742857      0.382284   -0.635279"
      ]
     },
     "execution_count": 125,
     "metadata": {},
     "output_type": "execute_result"
    }
   ],
   "source": [
    "ratings.head()"
   ]
  },
  {
   "cell_type": "code",
   "execution_count": 130,
   "metadata": {},
   "outputs": [],
   "source": [
    "ratings.to_csv('ratNorm.csv', header=True, index=False)"
   ]
  },
  {
   "cell_type": "code",
   "execution_count": null,
   "metadata": {},
   "outputs": [],
   "source": [
    "# ratingsN = pd.read_csv('./ratNorm.csv')"
   ]
  },
  {
   "cell_type": "markdown",
   "metadata": {},
   "source": [
    "En principio filtraría el dataframe ratings con los ratingNorm>0 positivos. Pero como quedan 10billones de ratings para el apriori y la ejecución se hace muy lenta, decido filtrar un poco más para obtener las películas que más gustaron al usuario. Mejor aún para la recomendación!"
   ]
  },
  {
   "cell_type": "code",
   "execution_count": 186,
   "metadata": {},
   "outputs": [
    {
     "data": {
      "text/html": [
       "<div>\n",
       "<style scoped>\n",
       "    .dataframe tbody tr th:only-of-type {\n",
       "        vertical-align: middle;\n",
       "    }\n",
       "\n",
       "    .dataframe tbody tr th {\n",
       "        vertical-align: top;\n",
       "    }\n",
       "\n",
       "    .dataframe thead th {\n",
       "        text-align: right;\n",
       "    }\n",
       "</style>\n",
       "<table border=\"1\" class=\"dataframe\">\n",
       "  <thead>\n",
       "    <tr style=\"text-align: right;\">\n",
       "      <th></th>\n",
       "      <th>userId</th>\n",
       "      <th>movieId</th>\n",
       "      <th>rating</th>\n",
       "      <th>medias</th>\n",
       "      <th>desviaciones</th>\n",
       "      <th>ratingNorm</th>\n",
       "    </tr>\n",
       "  </thead>\n",
       "  <tbody>\n",
       "    <tr>\n",
       "      <th>30</th>\n",
       "      <td>1</td>\n",
       "      <td>1196</td>\n",
       "      <td>4.5</td>\n",
       "      <td>3.742857</td>\n",
       "      <td>0.382284</td>\n",
       "      <td>1.980576</td>\n",
       "    </tr>\n",
       "    <tr>\n",
       "      <th>31</th>\n",
       "      <td>1</td>\n",
       "      <td>1198</td>\n",
       "      <td>4.5</td>\n",
       "      <td>3.742857</td>\n",
       "      <td>0.382284</td>\n",
       "      <td>1.980576</td>\n",
       "    </tr>\n",
       "    <tr>\n",
       "      <th>131</th>\n",
       "      <td>1</td>\n",
       "      <td>4993</td>\n",
       "      <td>5.0</td>\n",
       "      <td>3.742857</td>\n",
       "      <td>0.382284</td>\n",
       "      <td>3.288503</td>\n",
       "    </tr>\n",
       "    <tr>\n",
       "      <th>142</th>\n",
       "      <td>1</td>\n",
       "      <td>5952</td>\n",
       "      <td>5.0</td>\n",
       "      <td>3.742857</td>\n",
       "      <td>0.382284</td>\n",
       "      <td>3.288503</td>\n",
       "    </tr>\n",
       "    <tr>\n",
       "      <th>158</th>\n",
       "      <td>1</td>\n",
       "      <td>7153</td>\n",
       "      <td>5.0</td>\n",
       "      <td>3.742857</td>\n",
       "      <td>0.382284</td>\n",
       "      <td>3.288503</td>\n",
       "    </tr>\n",
       "  </tbody>\n",
       "</table>\n",
       "</div>"
      ],
      "text/plain": [
       "     userId  movieId  rating    medias  desviaciones  ratingNorm\n",
       "30        1     1196     4.5  3.742857      0.382284    1.980576\n",
       "31        1     1198     4.5  3.742857      0.382284    1.980576\n",
       "131       1     4993     5.0  3.742857      0.382284    3.288503\n",
       "142       1     5952     5.0  3.742857      0.382284    3.288503\n",
       "158       1     7153     5.0  3.742857      0.382284    3.288503"
      ]
     },
     "execution_count": 186,
     "metadata": {},
     "output_type": "execute_result"
    }
   ],
   "source": [
    "sample = ratings[ratings.ratingNorm > 1]\n",
    "sample.head()"
   ]
  },
  {
   "cell_type": "code",
   "execution_count": 187,
   "metadata": {},
   "outputs": [
    {
     "data": {
      "text/plain": [
       "(3095998, 6)"
      ]
     },
     "execution_count": 187,
     "metadata": {},
     "output_type": "execute_result"
    }
   ],
   "source": [
    "sample.shape"
   ]
  },
  {
   "cell_type": "markdown",
   "metadata": {},
   "source": [
    "Sobre éste dataframe buscamos reglas de asociación con apriori. Para ello acomodamos los datos a listas."
   ]
  },
  {
   "cell_type": "code",
   "execution_count": 188,
   "metadata": {},
   "outputs": [],
   "source": [
    "usuarios = sample.userId.unique()"
   ]
  },
  {
   "cell_type": "code",
   "execution_count": 189,
   "metadata": {},
   "outputs": [],
   "source": [
    "transacciones = []\n",
    "for idx in usuarios:\n",
    "    transacciones.append(list(sample[sample.userId==idx].movieId))"
   ]
  },
  {
   "cell_type": "markdown",
   "metadata": {},
   "source": [
    "Guardamos las transacciones obtenidas."
   ]
  },
  {
   "cell_type": "code",
   "execution_count": null,
   "metadata": {},
   "outputs": [],
   "source": [
    "import pickle\n",
    "\n",
    "def guardar_datos(datos):\n",
    "    with open(\"transacciones.pkl\", \"wb\") as f:\n",
    "        pickle.dump(datos, f)\n",
    "\n",
    "\n",
    "def cargar_datos():\n",
    "     with open(\"transacciones.pkl\", \"rb\") as f:\n",
    "         return pickle.load(f)\n",
    "\n",
    "guardar_datos(transacciones)"
   ]
  },
  {
   "cell_type": "code",
   "execution_count": 3,
   "metadata": {},
   "outputs": [],
   "source": [
    "transacc = cargar_datos()"
   ]
  },
  {
   "cell_type": "code",
   "execution_count": 4,
   "metadata": {},
   "outputs": [
    {
     "data": {
      "text/plain": [
       "list"
      ]
     },
     "execution_count": 4,
     "metadata": {},
     "output_type": "execute_result"
    }
   ],
   "source": [
    "type(transacc)"
   ]
  },
  {
   "cell_type": "markdown",
   "metadata": {},
   "source": [
    "__Variamos los parámetros del apriori en busca de las mejores reglas de asociación:__"
   ]
  },
  {
   "cell_type": "markdown",
   "metadata": {},
   "source": [
    "* __Soporte:__ Para empezar consideremos que hay 27mil peliculas puntuadas y tenemos 3millones de puntuaciones de usuarios para el algoritmo apriori. Si fuera que todas las películas aparecen la misma cantidad de veces (se sabe que no es así) se obtendría un soporte de 0.003 para cada película. Partimos de éste valor hacia arriba para fijar el soporte. Es decir, dada la gran cantidad de valoraciones de usuarios y la gran variedad de películas no se considera necesario un soporte muy alto.\n",
    "\n",
    "* __Confianza:__ Para recomendar me interesa conseguir reglas de asociación que tengan una buena confianza, es decir, que la probabilidad de que se vea una película Y dado que se vió otra película X sea considerable. Para empezar considero que un 30% esta bien.\n",
    "\n",
    "* __Lift:__ Además, es necesario que el lift sea >1 pues esto significa que la probabilidad de que se vean dos películas juntas se debe a una correlación y no al azar. "
   ]
  },
  {
   "cell_type": "code",
   "execution_count": 5,
   "metadata": {},
   "outputs": [
    {
     "data": {
      "text/plain": [
       "0.00364987315883279"
      ]
     },
     "execution_count": 5,
     "metadata": {},
     "output_type": "execute_result"
    }
   ],
   "source": [
    "#3095998/27278\n",
    "11300/3095998"
   ]
  },
  {
   "cell_type": "code",
   "execution_count": 203,
   "metadata": {},
   "outputs": [],
   "source": [
    "association_rules = apriori(transacc, min_support=0.01, min_confidence=0.3, min_lift=2, min_length=2)\n",
    "association_rules = list(association_rules)"
   ]
  },
  {
   "cell_type": "code",
   "execution_count": 204,
   "metadata": {},
   "outputs": [
    {
     "name": "stdout",
     "output_type": "stream",
     "text": [
      "12619\n"
     ]
    }
   ],
   "source": [
    "print(len(association_rules))"
   ]
  },
  {
   "cell_type": "markdown",
   "metadata": {},
   "source": [
    "Se consiguieron 12619 reglas de asociación.\n",
    "\n",
    "Luego, exigiendo un poco más de la confianza y el lift de las reglas se obtiene:"
   ]
  },
  {
   "cell_type": "code",
   "execution_count": 8,
   "metadata": {},
   "outputs": [],
   "source": [
    "association_rules2 = apriori(transacc, min_support=0.01, min_confidence=0.5, min_lift=3, min_length=2)\n",
    "association_rules2 = list(association_rules2)"
   ]
  },
  {
   "cell_type": "code",
   "execution_count": 9,
   "metadata": {},
   "outputs": [
    {
     "name": "stdout",
     "output_type": "stream",
     "text": [
      "7430\n"
     ]
    }
   ],
   "source": [
    "print(len(association_rules2))"
   ]
  },
  {
   "cell_type": "markdown",
   "metadata": {},
   "source": [
    "Se acomodan las reglas obtenidas en un dataframe."
   ]
  },
  {
   "cell_type": "code",
   "execution_count": 10,
   "metadata": {},
   "outputs": [],
   "source": [
    "reglas = pd.DataFrame(columns=['Regla','Soporte','Confianza','Lift'])\n",
    "\n",
    "for i,item in enumerate(association_rules2):\n",
    "    reglas.loc[i] = [item[0],item[1],item[2][0][2],item[2][0][3]]"
   ]
  },
  {
   "cell_type": "code",
   "execution_count": 11,
   "metadata": {},
   "outputs": [
    {
     "name": "stdout",
     "output_type": "stream",
     "text": [
      "<class 'pandas.core.frame.DataFrame'>\n",
      "Int64Index: 7430 entries, 0 to 7429\n",
      "Data columns (total 4 columns):\n",
      "Regla        7430 non-null object\n",
      "Soporte      7430 non-null float64\n",
      "Confianza    7430 non-null float64\n",
      "Lift         7430 non-null float64\n",
      "dtypes: float64(3), object(1)\n",
      "memory usage: 290.2+ KB\n"
     ]
    }
   ],
   "source": [
    "reglas.info()"
   ]
  },
  {
   "cell_type": "code",
   "execution_count": 12,
   "metadata": {},
   "outputs": [
    {
     "data": {
      "text/html": [
       "<div>\n",
       "<style scoped>\n",
       "    .dataframe tbody tr th:only-of-type {\n",
       "        vertical-align: middle;\n",
       "    }\n",
       "\n",
       "    .dataframe tbody tr th {\n",
       "        vertical-align: top;\n",
       "    }\n",
       "\n",
       "    .dataframe thead th {\n",
       "        text-align: right;\n",
       "    }\n",
       "</style>\n",
       "<table border=\"1\" class=\"dataframe\">\n",
       "  <thead>\n",
       "    <tr style=\"text-align: right;\">\n",
       "      <th></th>\n",
       "      <th>Regla</th>\n",
       "      <th>Soporte</th>\n",
       "      <th>Confianza</th>\n",
       "      <th>Lift</th>\n",
       "    </tr>\n",
       "  </thead>\n",
       "  <tbody>\n",
       "    <tr>\n",
       "      <th>0</th>\n",
       "      <td>(1, 3114)</td>\n",
       "      <td>0.023005</td>\n",
       "      <td>0.573395</td>\n",
       "      <td>5.777556</td>\n",
       "    </tr>\n",
       "    <tr>\n",
       "      <th>1</th>\n",
       "      <td>(50, 555)</td>\n",
       "      <td>0.015450</td>\n",
       "      <td>0.537234</td>\n",
       "      <td>3.092420</td>\n",
       "    </tr>\n",
       "    <tr>\n",
       "      <th>2</th>\n",
       "      <td>(266, 110)</td>\n",
       "      <td>0.011218</td>\n",
       "      <td>0.529908</td>\n",
       "      <td>3.510482</td>\n",
       "    </tr>\n",
       "    <tr>\n",
       "      <th>3</th>\n",
       "      <td>(553, 110)</td>\n",
       "      <td>0.013819</td>\n",
       "      <td>0.542000</td>\n",
       "      <td>3.590590</td>\n",
       "    </tr>\n",
       "    <tr>\n",
       "      <th>4</th>\n",
       "      <td>(1408, 110)</td>\n",
       "      <td>0.010156</td>\n",
       "      <td>0.518888</td>\n",
       "      <td>3.437482</td>\n",
       "    </tr>\n",
       "  </tbody>\n",
       "</table>\n",
       "</div>"
      ],
      "text/plain": [
       "         Regla   Soporte  Confianza      Lift\n",
       "0    (1, 3114)  0.023005   0.573395  5.777556\n",
       "1    (50, 555)  0.015450   0.537234  3.092420\n",
       "2   (266, 110)  0.011218   0.529908  3.510482\n",
       "3   (553, 110)  0.013819   0.542000  3.590590\n",
       "4  (1408, 110)  0.010156   0.518888  3.437482"
      ]
     },
     "execution_count": 12,
     "metadata": {},
     "output_type": "execute_result"
    }
   ],
   "source": [
    "reglas.head()"
   ]
  },
  {
   "cell_type": "markdown",
   "metadata": {},
   "source": [
    "__A continuación se ordenan las reglas en orden descendente de lift para visualizar las que tienen mayor lift.__"
   ]
  },
  {
   "cell_type": "code",
   "execution_count": 13,
   "metadata": {},
   "outputs": [
    {
     "data": {
      "text/html": [
       "<div>\n",
       "<style scoped>\n",
       "    .dataframe tbody tr th:only-of-type {\n",
       "        vertical-align: middle;\n",
       "    }\n",
       "\n",
       "    .dataframe tbody tr th {\n",
       "        vertical-align: top;\n",
       "    }\n",
       "\n",
       "    .dataframe thead th {\n",
       "        text-align: right;\n",
       "    }\n",
       "</style>\n",
       "<table border=\"1\" class=\"dataframe\">\n",
       "  <thead>\n",
       "    <tr style=\"text-align: right;\">\n",
       "      <th></th>\n",
       "      <th>Regla</th>\n",
       "      <th>Soporte</th>\n",
       "      <th>Confianza</th>\n",
       "      <th>Lift</th>\n",
       "    </tr>\n",
       "  </thead>\n",
       "  <tbody>\n",
       "    <tr>\n",
       "      <th>26</th>\n",
       "      <td>(306, 307)</td>\n",
       "      <td>0.010521</td>\n",
       "      <td>0.511148</td>\n",
       "      <td>29.997876</td>\n",
       "    </tr>\n",
       "    <tr>\n",
       "      <th>174</th>\n",
       "      <td>(8665, 5418)</td>\n",
       "      <td>0.012382</td>\n",
       "      <td>0.731793</td>\n",
       "      <td>25.038856</td>\n",
       "    </tr>\n",
       "    <tr>\n",
       "      <th>175</th>\n",
       "      <td>(5418, 54286)</td>\n",
       "      <td>0.010513</td>\n",
       "      <td>0.597008</td>\n",
       "      <td>20.427073</td>\n",
       "    </tr>\n",
       "    <tr>\n",
       "      <th>2641</th>\n",
       "      <td>(745, 1148, 1223)</td>\n",
       "      <td>0.012280</td>\n",
       "      <td>0.918627</td>\n",
       "      <td>20.110322</td>\n",
       "    </tr>\n",
       "    <tr>\n",
       "      <th>42</th>\n",
       "      <td>(745, 1223)</td>\n",
       "      <td>0.013368</td>\n",
       "      <td>0.716629</td>\n",
       "      <td>20.096346</td>\n",
       "    </tr>\n",
       "    <tr>\n",
       "      <th>3222</th>\n",
       "      <td>(1089, 6874, 7438)</td>\n",
       "      <td>0.010164</td>\n",
       "      <td>0.666295</td>\n",
       "      <td>18.720542</td>\n",
       "    </tr>\n",
       "    <tr>\n",
       "      <th>6182</th>\n",
       "      <td>(296, 6874, 2571, 7438)</td>\n",
       "      <td>0.010139</td>\n",
       "      <td>0.665365</td>\n",
       "      <td>18.694414</td>\n",
       "    </tr>\n",
       "    <tr>\n",
       "      <th>6191</th>\n",
       "      <td>(296, 6874, 7438, 2959)</td>\n",
       "      <td>0.012000</td>\n",
       "      <td>0.662289</td>\n",
       "      <td>18.607978</td>\n",
       "    </tr>\n",
       "    <tr>\n",
       "      <th>2637</th>\n",
       "      <td>(720, 745, 1148)</td>\n",
       "      <td>0.011006</td>\n",
       "      <td>0.846959</td>\n",
       "      <td>18.541386</td>\n",
       "    </tr>\n",
       "    <tr>\n",
       "      <th>2638</th>\n",
       "      <td>(1136, 745, 1148)</td>\n",
       "      <td>0.010113</td>\n",
       "      <td>0.845771</td>\n",
       "      <td>18.515386</td>\n",
       "    </tr>\n",
       "    <tr>\n",
       "      <th>2640</th>\n",
       "      <td>(745, 1148, 1198)</td>\n",
       "      <td>0.010207</td>\n",
       "      <td>0.843992</td>\n",
       "      <td>18.476428</td>\n",
       "    </tr>\n",
       "    <tr>\n",
       "      <th>2639</th>\n",
       "      <td>(745, 1196, 1148)</td>\n",
       "      <td>0.010088</td>\n",
       "      <td>0.840652</td>\n",
       "      <td>18.403309</td>\n",
       "    </tr>\n",
       "    <tr>\n",
       "      <th>3962</th>\n",
       "      <td>(7153, 6874, 7438)</td>\n",
       "      <td>0.011906</td>\n",
       "      <td>0.645325</td>\n",
       "      <td>18.131345</td>\n",
       "    </tr>\n",
       "    <tr>\n",
       "      <th>3060</th>\n",
       "      <td>(6874, 858, 7438)</td>\n",
       "      <td>0.010853</td>\n",
       "      <td>0.644624</td>\n",
       "      <td>18.111654</td>\n",
       "    </tr>\n",
       "    <tr>\n",
       "      <th>1894</th>\n",
       "      <td>(296, 6874, 7438)</td>\n",
       "      <td>0.018603</td>\n",
       "      <td>0.638379</td>\n",
       "      <td>17.936181</td>\n",
       "    </tr>\n",
       "    <tr>\n",
       "      <th>3955</th>\n",
       "      <td>(5952, 6874, 7438)</td>\n",
       "      <td>0.010963</td>\n",
       "      <td>0.635468</td>\n",
       "      <td>17.854405</td>\n",
       "    </tr>\n",
       "    <tr>\n",
       "      <th>3898</th>\n",
       "      <td>(6874, 7438, 2959)</td>\n",
       "      <td>0.015306</td>\n",
       "      <td>0.627964</td>\n",
       "      <td>17.643562</td>\n",
       "    </tr>\n",
       "    <tr>\n",
       "      <th>3875</th>\n",
       "      <td>(6874, 2858, 7438)</td>\n",
       "      <td>0.010385</td>\n",
       "      <td>0.624744</td>\n",
       "      <td>17.553109</td>\n",
       "    </tr>\n",
       "    <tr>\n",
       "      <th>3944</th>\n",
       "      <td>(4993, 6874, 7438)</td>\n",
       "      <td>0.011847</td>\n",
       "      <td>0.623714</td>\n",
       "      <td>17.524149</td>\n",
       "    </tr>\n",
       "    <tr>\n",
       "      <th>91</th>\n",
       "      <td>(1148, 1223)</td>\n",
       "      <td>0.014881</td>\n",
       "      <td>0.797722</td>\n",
       "      <td>17.463509</td>\n",
       "    </tr>\n",
       "  </tbody>\n",
       "</table>\n",
       "</div>"
      ],
      "text/plain": [
       "                        Regla   Soporte  Confianza       Lift\n",
       "26                 (306, 307)  0.010521   0.511148  29.997876\n",
       "174              (8665, 5418)  0.012382   0.731793  25.038856\n",
       "175             (5418, 54286)  0.010513   0.597008  20.427073\n",
       "2641        (745, 1148, 1223)  0.012280   0.918627  20.110322\n",
       "42                (745, 1223)  0.013368   0.716629  20.096346\n",
       "3222       (1089, 6874, 7438)  0.010164   0.666295  18.720542\n",
       "6182  (296, 6874, 2571, 7438)  0.010139   0.665365  18.694414\n",
       "6191  (296, 6874, 7438, 2959)  0.012000   0.662289  18.607978\n",
       "2637         (720, 745, 1148)  0.011006   0.846959  18.541386\n",
       "2638        (1136, 745, 1148)  0.010113   0.845771  18.515386\n",
       "2640        (745, 1148, 1198)  0.010207   0.843992  18.476428\n",
       "2639        (745, 1196, 1148)  0.010088   0.840652  18.403309\n",
       "3962       (7153, 6874, 7438)  0.011906   0.645325  18.131345\n",
       "3060        (6874, 858, 7438)  0.010853   0.644624  18.111654\n",
       "1894        (296, 6874, 7438)  0.018603   0.638379  17.936181\n",
       "3955       (5952, 6874, 7438)  0.010963   0.635468  17.854405\n",
       "3898       (6874, 7438, 2959)  0.015306   0.627964  17.643562\n",
       "3875       (6874, 2858, 7438)  0.010385   0.624744  17.553109\n",
       "3944       (4993, 6874, 7438)  0.011847   0.623714  17.524149\n",
       "91               (1148, 1223)  0.014881   0.797722  17.463509"
      ]
     },
     "execution_count": 13,
     "metadata": {},
     "output_type": "execute_result"
    }
   ],
   "source": [
    "reglas.sort_values(by='Lift', ascending=False).head(20)"
   ]
  },
  {
   "cell_type": "markdown",
   "metadata": {},
   "source": [
    "Una vez que se obtienen las reglas de asociación, la medida más interesante es el lift ya que ella guarda información conjunta del soporte y de la confianza. Dice en qué proporción aumenta la vista de una película dado que antes se vió otra película, o qué películas estan más relacionadas a otra según los intereses del usuario. Ésto es justamente lo que se necesita para un sistema de recomendación. Se observa que hay muchas reglas con un lift alto, éstas tienen un soporte mayor a 0.01 pues como se dijo antes no íba a ser tan estricta en el soporte debido a la gran variedad de películas y proporción aún mucho mayor de puntuaciones de usuario reclutadas."
   ]
  },
  {
   "cell_type": "markdown",
   "metadata": {},
   "source": [
    "__Probamos ahora viendo aquellas reglas que tienen mayor confianza.__"
   ]
  },
  {
   "cell_type": "code",
   "execution_count": 14,
   "metadata": {},
   "outputs": [
    {
     "data": {
      "text/html": [
       "<div>\n",
       "<style scoped>\n",
       "    .dataframe tbody tr th:only-of-type {\n",
       "        vertical-align: middle;\n",
       "    }\n",
       "\n",
       "    .dataframe tbody tr th {\n",
       "        vertical-align: top;\n",
       "    }\n",
       "\n",
       "    .dataframe thead th {\n",
       "        text-align: right;\n",
       "    }\n",
       "</style>\n",
       "<table border=\"1\" class=\"dataframe\">\n",
       "  <thead>\n",
       "    <tr style=\"text-align: right;\">\n",
       "      <th></th>\n",
       "      <th>Regla</th>\n",
       "      <th>Soporte</th>\n",
       "      <th>Confianza</th>\n",
       "      <th>Lift</th>\n",
       "    </tr>\n",
       "  </thead>\n",
       "  <tbody>\n",
       "    <tr>\n",
       "      <th>2641</th>\n",
       "      <td>(745, 1148, 1223)</td>\n",
       "      <td>0.012280</td>\n",
       "      <td>0.918627</td>\n",
       "      <td>20.110322</td>\n",
       "    </tr>\n",
       "    <tr>\n",
       "      <th>6987</th>\n",
       "      <td>(5952, 4993, 7153, 7438)</td>\n",
       "      <td>0.010708</td>\n",
       "      <td>0.916364</td>\n",
       "      <td>9.304226</td>\n",
       "    </tr>\n",
       "    <tr>\n",
       "      <th>6990</th>\n",
       "      <td>(5952, 4993, 7153, 58559)</td>\n",
       "      <td>0.013649</td>\n",
       "      <td>0.916144</td>\n",
       "      <td>9.301994</td>\n",
       "    </tr>\n",
       "    <tr>\n",
       "      <th>6988</th>\n",
       "      <td>(5952, 4993, 7153, 8961)</td>\n",
       "      <td>0.011099</td>\n",
       "      <td>0.915207</td>\n",
       "      <td>9.292480</td>\n",
       "    </tr>\n",
       "    <tr>\n",
       "      <th>6989</th>\n",
       "      <td>(5952, 4993, 33794, 7153)</td>\n",
       "      <td>0.011872</td>\n",
       "      <td>0.913669</td>\n",
       "      <td>9.276867</td>\n",
       "    </tr>\n",
       "    <tr>\n",
       "      <th>6986</th>\n",
       "      <td>(5952, 4993, 7361, 7153)</td>\n",
       "      <td>0.012297</td>\n",
       "      <td>0.903246</td>\n",
       "      <td>9.171037</td>\n",
       "    </tr>\n",
       "    <tr>\n",
       "      <th>6985</th>\n",
       "      <td>(5952, 4993, 6874, 7153)</td>\n",
       "      <td>0.013368</td>\n",
       "      <td>0.900916</td>\n",
       "      <td>9.147384</td>\n",
       "    </tr>\n",
       "    <tr>\n",
       "      <th>5602</th>\n",
       "      <td>(1240, 1291, 260, 1198)</td>\n",
       "      <td>0.010462</td>\n",
       "      <td>0.892029</td>\n",
       "      <td>7.084454</td>\n",
       "    </tr>\n",
       "    <tr>\n",
       "      <th>5599</th>\n",
       "      <td>(1291, 260, 1198, 1214)</td>\n",
       "      <td>0.010377</td>\n",
       "      <td>0.889942</td>\n",
       "      <td>7.067877</td>\n",
       "    </tr>\n",
       "    <tr>\n",
       "      <th>1477</th>\n",
       "      <td>(1210, 1387, 260)</td>\n",
       "      <td>0.011422</td>\n",
       "      <td>0.889477</td>\n",
       "      <td>5.042299</td>\n",
       "    </tr>\n",
       "    <tr>\n",
       "      <th>5583</th>\n",
       "      <td>(1200, 1291, 260, 1198)</td>\n",
       "      <td>0.010921</td>\n",
       "      <td>0.889273</td>\n",
       "      <td>7.062569</td>\n",
       "    </tr>\n",
       "    <tr>\n",
       "      <th>6984</th>\n",
       "      <td>(5952, 4993, 6539, 7153)</td>\n",
       "      <td>0.015187</td>\n",
       "      <td>0.888613</td>\n",
       "      <td>9.022458</td>\n",
       "    </tr>\n",
       "    <tr>\n",
       "      <th>5720</th>\n",
       "      <td>(296, 1089, 1221, 318)</td>\n",
       "      <td>0.011524</td>\n",
       "      <td>0.886854</td>\n",
       "      <td>3.748630</td>\n",
       "    </tr>\n",
       "    <tr>\n",
       "      <th>1757</th>\n",
       "      <td>(296, 1089, 7438)</td>\n",
       "      <td>0.010742</td>\n",
       "      <td>0.886396</td>\n",
       "      <td>3.746691</td>\n",
       "    </tr>\n",
       "    <tr>\n",
       "      <th>6849</th>\n",
       "      <td>(1291, 1196, 1198, 1214)</td>\n",
       "      <td>0.010147</td>\n",
       "      <td>0.882483</td>\n",
       "      <td>7.008643</td>\n",
       "    </tr>\n",
       "    <tr>\n",
       "      <th>5525</th>\n",
       "      <td>(1210, 1196, 260, 2628)</td>\n",
       "      <td>0.010020</td>\n",
       "      <td>0.881166</td>\n",
       "      <td>8.022053</td>\n",
       "    </tr>\n",
       "    <tr>\n",
       "      <th>6833</th>\n",
       "      <td>(1200, 1291, 1196, 1198)</td>\n",
       "      <td>0.010870</td>\n",
       "      <td>0.878434</td>\n",
       "      <td>6.976484</td>\n",
       "    </tr>\n",
       "    <tr>\n",
       "      <th>6983</th>\n",
       "      <td>(5952, 4993, 6377, 7153)</td>\n",
       "      <td>0.011473</td>\n",
       "      <td>0.877193</td>\n",
       "      <td>8.906510</td>\n",
       "    </tr>\n",
       "    <tr>\n",
       "      <th>6997</th>\n",
       "      <td>(1089, 296, 47, 50, 318)</td>\n",
       "      <td>0.010309</td>\n",
       "      <td>0.875180</td>\n",
       "      <td>3.699286</td>\n",
       "    </tr>\n",
       "    <tr>\n",
       "      <th>3959</th>\n",
       "      <td>(5952, 7153, 32587)</td>\n",
       "      <td>0.010555</td>\n",
       "      <td>0.874648</td>\n",
       "      <td>8.880669</td>\n",
       "    </tr>\n",
       "  </tbody>\n",
       "</table>\n",
       "</div>"
      ],
      "text/plain": [
       "                          Regla   Soporte  Confianza       Lift\n",
       "2641          (745, 1148, 1223)  0.012280   0.918627  20.110322\n",
       "6987   (5952, 4993, 7153, 7438)  0.010708   0.916364   9.304226\n",
       "6990  (5952, 4993, 7153, 58559)  0.013649   0.916144   9.301994\n",
       "6988   (5952, 4993, 7153, 8961)  0.011099   0.915207   9.292480\n",
       "6989  (5952, 4993, 33794, 7153)  0.011872   0.913669   9.276867\n",
       "6986   (5952, 4993, 7361, 7153)  0.012297   0.903246   9.171037\n",
       "6985   (5952, 4993, 6874, 7153)  0.013368   0.900916   9.147384\n",
       "5602    (1240, 1291, 260, 1198)  0.010462   0.892029   7.084454\n",
       "5599    (1291, 260, 1198, 1214)  0.010377   0.889942   7.067877\n",
       "1477          (1210, 1387, 260)  0.011422   0.889477   5.042299\n",
       "5583    (1200, 1291, 260, 1198)  0.010921   0.889273   7.062569\n",
       "6984   (5952, 4993, 6539, 7153)  0.015187   0.888613   9.022458\n",
       "5720     (296, 1089, 1221, 318)  0.011524   0.886854   3.748630\n",
       "1757          (296, 1089, 7438)  0.010742   0.886396   3.746691\n",
       "6849   (1291, 1196, 1198, 1214)  0.010147   0.882483   7.008643\n",
       "5525    (1210, 1196, 260, 2628)  0.010020   0.881166   8.022053\n",
       "6833   (1200, 1291, 1196, 1198)  0.010870   0.878434   6.976484\n",
       "6983   (5952, 4993, 6377, 7153)  0.011473   0.877193   8.906510\n",
       "6997   (1089, 296, 47, 50, 318)  0.010309   0.875180   3.699286\n",
       "3959        (5952, 7153, 32587)  0.010555   0.874648   8.880669"
      ]
     },
     "execution_count": 14,
     "metadata": {},
     "output_type": "execute_result"
    }
   ],
   "source": [
    "reglas.sort_values(by='Confianza', ascending=False).head(20)"
   ]
  },
  {
   "cell_type": "markdown",
   "metadata": {},
   "source": [
    "Vemos que hay reglas con una confianza muy alta y un buen valor de lift. La confianza habla de la probabilidad de que aparezcan juntas 2, 3, 4.. películas. Éste tambien puede ser un dato útil para recomendar películas considerando que siempre trabajamos con muestras, aún si usáramos todo el dataset, sería una muestra más grande."
   ]
  },
  {
   "cell_type": "markdown",
   "metadata": {},
   "source": [
    "Veamos cuales son las películas de las primeras reglas."
   ]
  },
  {
   "cell_type": "code",
   "execution_count": 36,
   "metadata": {},
   "outputs": [],
   "source": [
    "reglas = pd.DataFrame(columns=['Regla','Soporte','Confianza','Lift'])\n",
    "\n",
    "for i,item in enumerate(association_rules2):\n",
    "    items = [movies[movies.movieId==x].title for x in item[0]]\n",
    "    reglas.loc[i] = [items,item[1],item[2][0][2],item[2][0][3]]"
   ]
  },
  {
   "cell_type": "code",
   "execution_count": 38,
   "metadata": {},
   "outputs": [
    {
     "data": {
      "text/html": [
       "<div>\n",
       "<style scoped>\n",
       "    .dataframe tbody tr th:only-of-type {\n",
       "        vertical-align: middle;\n",
       "    }\n",
       "\n",
       "    .dataframe tbody tr th {\n",
       "        vertical-align: top;\n",
       "    }\n",
       "\n",
       "    .dataframe thead th {\n",
       "        text-align: right;\n",
       "    }\n",
       "</style>\n",
       "<table border=\"1\" class=\"dataframe\">\n",
       "  <thead>\n",
       "    <tr style=\"text-align: right;\">\n",
       "      <th></th>\n",
       "      <th>Regla</th>\n",
       "      <th>Soporte</th>\n",
       "      <th>Confianza</th>\n",
       "      <th>Lift</th>\n",
       "    </tr>\n",
       "  </thead>\n",
       "  <tbody>\n",
       "    <tr>\n",
       "      <th>26</th>\n",
       "      <td>[[Three Colors: Red (Trois couleurs: Rouge) (1...</td>\n",
       "      <td>0.010521</td>\n",
       "      <td>0.511148</td>\n",
       "      <td>29.997876</td>\n",
       "    </tr>\n",
       "    <tr>\n",
       "      <th>174</th>\n",
       "      <td>[[Bourne Supremacy, The (2004)], [Bourne Ident...</td>\n",
       "      <td>0.012382</td>\n",
       "      <td>0.731793</td>\n",
       "      <td>25.038856</td>\n",
       "    </tr>\n",
       "    <tr>\n",
       "      <th>175</th>\n",
       "      <td>[[Bourne Identity, The (2002)], [Bourne Ultima...</td>\n",
       "      <td>0.010513</td>\n",
       "      <td>0.597008</td>\n",
       "      <td>20.427073</td>\n",
       "    </tr>\n",
       "    <tr>\n",
       "      <th>2641</th>\n",
       "      <td>[[Wallace &amp; Gromit: A Close Shave (1995)], [Wa...</td>\n",
       "      <td>0.012280</td>\n",
       "      <td>0.918627</td>\n",
       "      <td>20.110322</td>\n",
       "    </tr>\n",
       "    <tr>\n",
       "      <th>42</th>\n",
       "      <td>[[Wallace &amp; Gromit: A Close Shave (1995)], [Gr...</td>\n",
       "      <td>0.013368</td>\n",
       "      <td>0.716629</td>\n",
       "      <td>20.096346</td>\n",
       "    </tr>\n",
       "    <tr>\n",
       "      <th>3222</th>\n",
       "      <td>[[Reservoir Dogs (1992)], [Kill Bill: Vol. 1 (...</td>\n",
       "      <td>0.010164</td>\n",
       "      <td>0.666295</td>\n",
       "      <td>18.720542</td>\n",
       "    </tr>\n",
       "    <tr>\n",
       "      <th>6182</th>\n",
       "      <td>[[Pulp Fiction (1994)], [Kill Bill: Vol. 1 (20...</td>\n",
       "      <td>0.010139</td>\n",
       "      <td>0.665365</td>\n",
       "      <td>18.694414</td>\n",
       "    </tr>\n",
       "    <tr>\n",
       "      <th>6191</th>\n",
       "      <td>[[Pulp Fiction (1994)], [Kill Bill: Vol. 1 (20...</td>\n",
       "      <td>0.012000</td>\n",
       "      <td>0.662289</td>\n",
       "      <td>18.607978</td>\n",
       "    </tr>\n",
       "    <tr>\n",
       "      <th>2637</th>\n",
       "      <td>[[Wallace &amp; Gromit: The Best of Aardman Animat...</td>\n",
       "      <td>0.011006</td>\n",
       "      <td>0.846959</td>\n",
       "      <td>18.541386</td>\n",
       "    </tr>\n",
       "    <tr>\n",
       "      <th>2638</th>\n",
       "      <td>[[Monty Python and the Holy Grail (1975)], [Wa...</td>\n",
       "      <td>0.010113</td>\n",
       "      <td>0.845771</td>\n",
       "      <td>18.515386</td>\n",
       "    </tr>\n",
       "  </tbody>\n",
       "</table>\n",
       "</div>"
      ],
      "text/plain": [
       "                                                  Regla   Soporte  Confianza  \\\n",
       "26    [[Three Colors: Red (Trois couleurs: Rouge) (1...  0.010521   0.511148   \n",
       "174   [[Bourne Supremacy, The (2004)], [Bourne Ident...  0.012382   0.731793   \n",
       "175   [[Bourne Identity, The (2002)], [Bourne Ultima...  0.010513   0.597008   \n",
       "2641  [[Wallace & Gromit: A Close Shave (1995)], [Wa...  0.012280   0.918627   \n",
       "42    [[Wallace & Gromit: A Close Shave (1995)], [Gr...  0.013368   0.716629   \n",
       "3222  [[Reservoir Dogs (1992)], [Kill Bill: Vol. 1 (...  0.010164   0.666295   \n",
       "6182  [[Pulp Fiction (1994)], [Kill Bill: Vol. 1 (20...  0.010139   0.665365   \n",
       "6191  [[Pulp Fiction (1994)], [Kill Bill: Vol. 1 (20...  0.012000   0.662289   \n",
       "2637  [[Wallace & Gromit: The Best of Aardman Animat...  0.011006   0.846959   \n",
       "2638  [[Monty Python and the Holy Grail (1975)], [Wa...  0.010113   0.845771   \n",
       "\n",
       "           Lift  \n",
       "26    29.997876  \n",
       "174   25.038856  \n",
       "175   20.427073  \n",
       "2641  20.110322  \n",
       "42    20.096346  \n",
       "3222  18.720542  \n",
       "6182  18.694414  \n",
       "6191  18.607978  \n",
       "2637  18.541386  \n",
       "2638  18.515386  "
      ]
     },
     "execution_count": 38,
     "metadata": {},
     "output_type": "execute_result"
    }
   ],
   "source": [
    "reglas.sort_values(by='Lift', ascending=False).head(10)"
   ]
  },
  {
   "cell_type": "code",
   "execution_count": 39,
   "metadata": {},
   "outputs": [
    {
     "data": {
      "text/html": [
       "<div>\n",
       "<style scoped>\n",
       "    .dataframe tbody tr th:only-of-type {\n",
       "        vertical-align: middle;\n",
       "    }\n",
       "\n",
       "    .dataframe tbody tr th {\n",
       "        vertical-align: top;\n",
       "    }\n",
       "\n",
       "    .dataframe thead th {\n",
       "        text-align: right;\n",
       "    }\n",
       "</style>\n",
       "<table border=\"1\" class=\"dataframe\">\n",
       "  <thead>\n",
       "    <tr style=\"text-align: right;\">\n",
       "      <th></th>\n",
       "      <th>Regla</th>\n",
       "      <th>Soporte</th>\n",
       "      <th>Confianza</th>\n",
       "      <th>Lift</th>\n",
       "    </tr>\n",
       "  </thead>\n",
       "  <tbody>\n",
       "    <tr>\n",
       "      <th>2641</th>\n",
       "      <td>[[Wallace &amp; Gromit: A Close Shave (1995)], [Wa...</td>\n",
       "      <td>0.012280</td>\n",
       "      <td>0.918627</td>\n",
       "      <td>20.110322</td>\n",
       "    </tr>\n",
       "    <tr>\n",
       "      <th>6987</th>\n",
       "      <td>[[Lord of the Rings: The Two Towers, The (2002...</td>\n",
       "      <td>0.010708</td>\n",
       "      <td>0.916364</td>\n",
       "      <td>9.304226</td>\n",
       "    </tr>\n",
       "    <tr>\n",
       "      <th>6990</th>\n",
       "      <td>[[Lord of the Rings: The Two Towers, The (2002...</td>\n",
       "      <td>0.013649</td>\n",
       "      <td>0.916144</td>\n",
       "      <td>9.301994</td>\n",
       "    </tr>\n",
       "    <tr>\n",
       "      <th>6988</th>\n",
       "      <td>[[Lord of the Rings: The Two Towers, The (2002...</td>\n",
       "      <td>0.011099</td>\n",
       "      <td>0.915207</td>\n",
       "      <td>9.292480</td>\n",
       "    </tr>\n",
       "    <tr>\n",
       "      <th>6989</th>\n",
       "      <td>[[Lord of the Rings: The Two Towers, The (2002...</td>\n",
       "      <td>0.011872</td>\n",
       "      <td>0.913669</td>\n",
       "      <td>9.276867</td>\n",
       "    </tr>\n",
       "    <tr>\n",
       "      <th>6986</th>\n",
       "      <td>[[Lord of the Rings: The Two Towers, The (2002...</td>\n",
       "      <td>0.012297</td>\n",
       "      <td>0.903246</td>\n",
       "      <td>9.171037</td>\n",
       "    </tr>\n",
       "    <tr>\n",
       "      <th>6985</th>\n",
       "      <td>[[Lord of the Rings: The Two Towers, The (2002...</td>\n",
       "      <td>0.013368</td>\n",
       "      <td>0.900916</td>\n",
       "      <td>9.147384</td>\n",
       "    </tr>\n",
       "    <tr>\n",
       "      <th>5602</th>\n",
       "      <td>[[Terminator, The (1984)], [Indiana Jones and ...</td>\n",
       "      <td>0.010462</td>\n",
       "      <td>0.892029</td>\n",
       "      <td>7.084454</td>\n",
       "    </tr>\n",
       "    <tr>\n",
       "      <th>5599</th>\n",
       "      <td>[[Indiana Jones and the Last Crusade (1989)], ...</td>\n",
       "      <td>0.010377</td>\n",
       "      <td>0.889942</td>\n",
       "      <td>7.067877</td>\n",
       "    </tr>\n",
       "    <tr>\n",
       "      <th>1477</th>\n",
       "      <td>[[Star Wars: Episode VI - Return of the Jedi (...</td>\n",
       "      <td>0.011422</td>\n",
       "      <td>0.889477</td>\n",
       "      <td>5.042299</td>\n",
       "    </tr>\n",
       "  </tbody>\n",
       "</table>\n",
       "</div>"
      ],
      "text/plain": [
       "                                                  Regla   Soporte  Confianza  \\\n",
       "2641  [[Wallace & Gromit: A Close Shave (1995)], [Wa...  0.012280   0.918627   \n",
       "6987  [[Lord of the Rings: The Two Towers, The (2002...  0.010708   0.916364   \n",
       "6990  [[Lord of the Rings: The Two Towers, The (2002...  0.013649   0.916144   \n",
       "6988  [[Lord of the Rings: The Two Towers, The (2002...  0.011099   0.915207   \n",
       "6989  [[Lord of the Rings: The Two Towers, The (2002...  0.011872   0.913669   \n",
       "6986  [[Lord of the Rings: The Two Towers, The (2002...  0.012297   0.903246   \n",
       "6985  [[Lord of the Rings: The Two Towers, The (2002...  0.013368   0.900916   \n",
       "5602  [[Terminator, The (1984)], [Indiana Jones and ...  0.010462   0.892029   \n",
       "5599  [[Indiana Jones and the Last Crusade (1989)], ...  0.010377   0.889942   \n",
       "1477  [[Star Wars: Episode VI - Return of the Jedi (...  0.011422   0.889477   \n",
       "\n",
       "           Lift  \n",
       "2641  20.110322  \n",
       "6987   9.304226  \n",
       "6990   9.301994  \n",
       "6988   9.292480  \n",
       "6989   9.276867  \n",
       "6986   9.171037  \n",
       "6985   9.147384  \n",
       "5602   7.084454  \n",
       "5599   7.067877  \n",
       "1477   5.042299  "
      ]
     },
     "execution_count": 39,
     "metadata": {},
     "output_type": "execute_result"
    }
   ],
   "source": [
    "reglas.sort_values(by='Confianza', ascending=False).head(10)"
   ]
  },
  {
   "cell_type": "code",
   "execution_count": null,
   "metadata": {},
   "outputs": [],
   "source": []
  }
 ],
 "metadata": {
  "kernelspec": {
   "display_name": "Python 3",
   "language": "python",
   "name": "python3"
  },
  "language_info": {
   "codemirror_mode": {
    "name": "ipython",
    "version": 3
   },
   "file_extension": ".py",
   "mimetype": "text/x-python",
   "name": "python",
   "nbconvert_exporter": "python",
   "pygments_lexer": "ipython3",
   "version": "3.6.8"
  }
 },
 "nbformat": 4,
 "nbformat_minor": 2
}
